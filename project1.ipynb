{
 "cells": [
  {
   "cell_type": "code",
   "execution_count": 1,
   "id": "78f04481-8eb4-4de3-8143-73733f4aa187",
   "metadata": {},
   "outputs": [
    {
     "name": "stdout",
     "output_type": "stream",
     "text": [
      "360 1082\n"
     ]
    },
    {
     "name": "stdin",
     "output_type": "stream",
     "text": [
      "Enter the security key 123\n",
      "Enter the text you want to hide: hello everyone\n"
     ]
    },
    {
     "name": "stdout",
     "output_type": "stream",
     "text": [
      "\n",
      "........................................................\n",
      "\n",
      "HIDING THE DATA INSIDE AN IMAGE DONE SUCCESSFULLY\n",
      "\n",
      "........................................................\n",
      "\n"
     ]
    },
    {
     "name": "stdin",
     "output_type": "stream",
     "text": [
      "To Extract The Data From IMG Enter 999  999\n",
      "\n",
      "\n",
      " RE-Enter ~Security Key 123\n"
     ]
    },
    {
     "name": "stdout",
     "output_type": "stream",
     "text": [
      "The Hidden/Encrypted Text Was : hello everyone\n"
     ]
    }
   ],
   "source": [
    "import cv2\n",
    "import string\n",
    "import os\n",
    "a={}\n",
    "b={}\n",
    "\n",
    "a = {chr(i): i for i in range(255)}\n",
    "b = {i: chr(i) for i in range(255)}\n",
    "\n",
    "\n",
    "x=cv2.imread(r\"C:\\Users\\syams\\OneDrive\\Desktop\\360_F_435096331_KPLyzoToGtUSeTncxCIYnDK4IuSr5afF.jpg\")\n",
    "\n",
    "i=x.shape[0]\n",
    "j=x.shape[1]\n",
    "print(i,j)\n",
    "\n",
    "skey =input(\"Enter the security key\")   \n",
    "text=input(\"Enter the text you want to hide:\")\n",
    "kl=0\n",
    "tln=len(text)\n",
    "z=0 #decides plane\n",
    "n=0 #number of row\n",
    "m=0 #number of column\n",
    "\n",
    "l=len(text)\n",
    "\n",
    "for i in range(l):\n",
    "    x[n,m,z]=a[text[i]]^a[skey[kl]]\n",
    "    n=n+1\n",
    "    m=m+1\n",
    "    m=(m+1)%3 \n",
    "    kl=(kl+1)%len(skey)\n",
    "\n",
    "cv2.imwrite(\"Encrypt_img.jpg\",x)\n",
    "os.startfile(\"Encrypt_img.jpg\")\n",
    "print(\"\\n........................................................\\n\")\n",
    "print(\"HIDING THE DATA INSIDE AN IMAGE DONE SUCCESSFULLY\")\n",
    "print(\"\\n........................................................\\n\")\n",
    "\n",
    "\n",
    "kl=0\n",
    "tln=len(text)\n",
    "z=0 #decides plane\n",
    "n=0 #number of row\n",
    "m=0 #number of column\n",
    "\n",
    "code = input(\"To Extract The Data From IMG Enter 999 \")\n",
    "co=int(code)\n",
    "if co==999:\n",
    "    key1 = input(\"\\n\\n RE-Enter ~Security Key\")\n",
    "    decrypt = \"\"\n",
    "\n",
    "    if skey == key1:\n",
    "        for i in range(l):\n",
    "            decrypt+=b[x[n,m,z]^a[skey[kl]]]\n",
    "            n=n+1\n",
    "            m=m+1\n",
    "            m=(m+1)%3\n",
    "            kl=(kl+1)%len(skey)\n",
    "        print(\"The Hidden/Encrypted Text Was :\",decrypt)\n",
    "    else:\n",
    "        print(\"Key Is Mis-matched\")\n",
    "\n",
    "else:\n",
    "    print(\"Wrong PIN\")\n",
    "    print(\"Thank You!\")\n",
    "    print(\"EXIT\")\n",
    "    \n"
   ]
  },
  {
   "cell_type": "markdown",
   "id": "b1627bca-9e44-449b-bdeb-209e46385c32",
   "metadata": {},
   "source": [
    "# "
   ]
  }
 ],
 "metadata": {
  "kernelspec": {
   "display_name": "Python 3 (ipykernel)",
   "language": "python",
   "name": "python3"
  },
  "language_info": {
   "codemirror_mode": {
    "name": "ipython",
    "version": 3
   },
   "file_extension": ".py",
   "mimetype": "text/x-python",
   "name": "python",
   "nbconvert_exporter": "python",
   "pygments_lexer": "ipython3",
   "version": "3.12.4"
  }
 },
 "nbformat": 4,
 "nbformat_minor": 5
}
